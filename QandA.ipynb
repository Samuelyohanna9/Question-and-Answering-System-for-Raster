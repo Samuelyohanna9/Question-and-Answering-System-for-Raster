{
 "cells": [
  {
   "cell_type": "markdown",
   "metadata": {},
   "source": [
    "Langsmith"
   ]
  },
  {
   "cell_type": "code",
   "execution_count": 8,
   "metadata": {},
   "outputs": [
    {
     "name": "stderr",
     "output_type": "stream",
     "text": [
      "ERROR: pip's dependency resolver does not currently take into account all the packages that are installed. This behaviour is the source of the following dependency conflicts.\n",
      "langchain 0.3.11 requires langsmith<0.3,>=0.1.17, but you have langsmith 0.3.0 which is incompatible.\n",
      "langchain-core 0.3.30 requires langsmith<0.3,>=0.1.125, but you have langsmith 0.3.0 which is incompatible.\n",
      "langchain-community 0.3.11 requires langsmith<0.3,>=0.1.125, but you have langsmith 0.3.0 which is incompatible.\n",
      "\n",
      "[notice] A new release of pip is available: 23.0.1 -> 24.3.1\n",
      "[notice] To update, run: python.exe -m pip install --upgrade pip\n"
     ]
    }
   ],
   "source": [
    "\n",
    "!pip install -qU langsmith"
   ]
  },
  {
   "cell_type": "code",
   "execution_count": 86,
   "metadata": {},
   "outputs": [],
   "source": [
    "import os\n",
    "import getpass\n",
    "\n",
    "if \"OPENAI_API_KEY\" not in os.environ:\n",
    "    os.environ[\"OPENAI_API_KEY\"] = getpass.getpass(\"Enter your OpenAI API key: \")\n",
    "     \n",
    "\n",
    "import os\n",
    "\n",
    "os.environ[\"LANGCHAIN_TRACING_V2\"] = \"true\"\n",
    "os.environ[\"LANGCHAIN_ENDPOINT\"] = \"https://api.smith.langchain.com\"\n",
    "os.environ[\"LANGCHAIN_API_KEY\"] = \"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\"\n",
    "     \n"
   ]
  },
  {
   "cell_type": "code",
   "execution_count": 117,
   "metadata": {},
   "outputs": [
    {
     "name": "stderr",
     "output_type": "stream",
     "text": [
      "\n",
      "[notice] A new release of pip is available: 23.0.1 -> 24.3.1\n",
      "[notice] To update, run: python.exe -m pip install --upgrade pip\n"
     ]
    }
   ],
   "source": [
    "\n",
    "\n",
    "!pip install -qU langchain-openai"
   ]
  },
  {
   "cell_type": "markdown",
   "metadata": {},
   "source": [
    "Semantic Model Extraction"
   ]
  },
  {
   "cell_type": "code",
   "execution_count": 143,
   "metadata": {},
   "outputs": [
    {
     "name": "stderr",
     "output_type": "stream",
     "text": [
      "\n",
      "[notice] A new release of pip is available: 23.0.1 -> 24.3.1\n",
      "[notice] To update, run: python.exe -m pip install --upgrade pip\n"
     ]
    }
   ],
   "source": [
    "!pip install -q langchain-community langchain-openai langchain_experimental neo4j\n",
    "     "
   ]
  },
  {
   "cell_type": "code",
   "execution_count": 9,
   "metadata": {},
   "outputs": [
    {
     "name": "stderr",
     "output_type": "stream",
     "text": [
      "C:\\Users\\User\\AppData\\Local\\Temp\\ipykernel_16296\\863624631.py:7: LangChainDeprecationWarning: The class `Neo4jGraph` was deprecated in LangChain 0.3.8 and will be removed in 1.0. An updated version of the class exists in the :class:`~langchain-neo4j package and should be used instead. To use it run `pip install -U :class:`~langchain-neo4j` and import as `from :class:`~langchain_neo4j import Neo4jGraph``.\n",
      "  graph = Neo4jGraph(\n"
     ]
    }
   ],
   "source": [
    "from langchain.graphs import Neo4jGraph\n",
    "\n",
    "url = \"neo4j+s://f663abd6.databases.neo4j.io\"\n",
    "username = \"neo4j\"\n",
    "password = \"alixhFD4WEKsKpbf5hUiUstBg4pSP8W_7v8BqjTYTf8\"\n",
    "\n",
    "graph = Neo4jGraph(\n",
    "    url=url,\n",
    "    username=username,\n",
    "    password=password\n",
    ")\n",
    "    "
   ]
  },
  {
   "cell_type": "code",
   "execution_count": 10,
   "metadata": {},
   "outputs": [],
   "source": [
    "import getpass\n",
    "import os\n",
    "\n",
    "if \"OPENAI_API_KEY\" not in os.environ:\n",
    "    os.environ[\"OPENAI_API_KEY\"] = getpass.getpass(\"Enter your OpenAI API key: \")\n",
    "     \n",
    "\n",
    "     \n"
   ]
  },
  {
   "cell_type": "markdown",
   "metadata": {},
   "source": [
    "Graph QA using GraphCypherQAChain"
   ]
  },
  {
   "cell_type": "code",
   "execution_count": 11,
   "metadata": {},
   "outputs": [
    {
     "name": "stderr",
     "output_type": "stream",
     "text": [
      "\n",
      "[notice] A new release of pip is available: 23.0.1 -> 24.3.1\n",
      "[notice] To update, run: python.exe -m pip install --upgrade pip\n"
     ]
    }
   ],
   "source": [
    "!pip install  --quiet langchain langchain-openai langchain-community neo4j\n",
    "     "
   ]
  },
  {
   "cell_type": "code",
   "execution_count": 12,
   "metadata": {},
   "outputs": [],
   "source": [
    "from langchain.graphs import Neo4jGraph\n",
    "url = \"neo4j+s://f663abd6.databases.neo4j.io\"\n",
    "username = \"neo4j\"\n",
    "password = \"alixhFD4WEKsKpbf5hUiUstBg4pSP8W_7v8BqjTYTf8\"\n",
    "\n",
    "graph = Neo4jGraph(\n",
    "    url=url,\n",
    "    username=username,\n",
    "    password=password\n",
    ")\n",
    "    "
   ]
  },
  {
   "cell_type": "code",
   "execution_count": 13,
   "metadata": {},
   "outputs": [],
   "source": [
    "import os\n",
    "import getpass\n",
    "\n",
    "if \"OPENAI_API_KEY\" not in os.environ:\n",
    "    os.environ[\"OPENAI_API_KEY\"] = getpass.getpass(\"Enter your OpenAI API key: \")\n",
    "     \n",
    "\n",
    "from langchain.chains import GraphCypherQAChain\n",
    "from langchain_community.graphs import Neo4jGraph\n",
    "from langchain_openai import ChatOpenAI\n",
    "import os\n",
    "\n",
    "chain = GraphCypherQAChain.from_llm(\n",
    "    graph=graph,\n",
    "    cypher_llm=ChatOpenAI(temperature=0, model=\"gpt-4o-mini\"), # gpt-4o-mini\tgpt-3.5-turbo\n",
    "    qa_llm=ChatOpenAI(temperature=0, model=\"gpt-3.5-turbo-16k\"),\n",
    "    verbose=True,\n",
    "    allow_dangerous_requests=True\n",
    ")"
   ]
  },
  {
   "cell_type": "code",
   "execution_count": 14,
   "metadata": {},
   "outputs": [
    {
     "name": "stdout",
     "output_type": "stream",
     "text": [
      "\n",
      "\n",
      "\u001b[1m> Entering new GraphCypherQAChain chain...\u001b[0m\n",
      "Generated Cypher:\n",
      "\u001b[32;1m\u001b[1;3mcypher\n",
      "MATCH (p:Product {name: 'S5P Tropomi L3 P1D CF'})\n",
      "RETURN p.temporalExtent\n",
      "\u001b[0m\n",
      "Full Context:\n",
      "\u001b[32;1m\u001b[1;3m[{'p.temporalExtent': '2017-11-08T00:00:00Z'}]\u001b[0m\n",
      "\n",
      "\u001b[1m> Finished chain.\u001b[0m\n",
      "{'query': 'what is the temporal extent of S5P Tropomi L3 P1D CF?', 'result': 'The temporal extent of S5P Tropomi L3 P1D CF is 2017-11-08T00:00:00Z.'}\n"
     ]
    }
   ],
   "source": [
    "# Defining questions\n",
    "questions = {\n",
    "    \"question_1\": \"What is the sensor type of Sentinel-2 L2A Maja Products\",\n",
    "    \"question_2\": \"What is the spatial extent of Sentinel-2 L2A Maja Products?\",\n",
    "    \"question_3\": \"What is the spatial extent of Sentinel-1 Floodmasks (Data4Human)?\",\n",
    "    \"question_4\": \"Give me the download links for Sentinel-2 L2A Maja Products?\",\n",
    "    \"question_5\": \"What is the spatial extent of S5P Tropomi L4 P1D NO2surf?\",\n",
    "    \"question_6\": \"What is the reference system used for Sentinel-2 L2A Maja Products?\",\n",
    "    \"question_7\": \"What is the ISO standards for Sentinel-2 L2A Maja Products?\",\n",
    "    \"question_8\": \"what is the temporal extent of S5P Tropomi L3 P1D CF?\",\n",
    "    \"question_9\": \"what is the orbit type of Sentinel-2 L2A Maja Products?\",\n",
    "    \"question_10\": \"provide the geojson of Sentinel-2 L2A Maja Products?\",\n",
    "    \"question_11\": \"provide the geojson of Global WaterPack - MODIS?\",\n",
    "    \"question_12\": \"what is the visualisation link of EnMAP L2A HSI Products?\",\n",
    "    \"question_13\": \"What id the sensor type of S5P Tropomi L3 P1D O3?\",\n",
    "    \"question_14\": \"what is the visualization link of Sentinel-2 L3A Monthly WASP Products?\",\n",
    "    \n",
    "   \n",
    "}\n",
    "\n",
    "# Invoking chain with questions\n",
    "response = chain.invoke(questions[\"question_8\"])\n",
    "\n",
    "# Printing the response\n",
    "print(response)\n",
    "\n",
    "     "
   ]
  },
  {
   "cell_type": "markdown",
   "metadata": {},
   "source": [
    " GraphQA using Vector Indices"
   ]
  },
  {
   "cell_type": "markdown",
   "metadata": {},
   "source": [
    "\n",
    "Indexing"
   ]
  },
  {
   "cell_type": "code",
   "execution_count": 15,
   "metadata": {},
   "outputs": [
    {
     "name": "stderr",
     "output_type": "stream",
     "text": [
      "\n",
      "[notice] A new release of pip is available: 23.0.1 -> 24.3.1\n",
      "[notice] To update, run: python.exe -m pip install --upgrade pip\n"
     ]
    }
   ],
   "source": [
    "!pip install langchain openai wikipedia tiktoken neo4j langchain_openai langchain_community --quiet\n",
    "     "
   ]
  },
  {
   "cell_type": "code",
   "execution_count": 16,
   "metadata": {},
   "outputs": [],
   "source": [
    "from langchain.graphs import Neo4jGraph\n",
    "url = \"neo4j+s://f663abd6.databases.neo4j.io\"\n",
    "username = \"neo4j\"\n",
    "password = \"alixhFD4WEKsKpbf5hUiUstBg4pSP8W_7v8BqjTYTf8\"\n",
    "\n",
    "graph = Neo4jGraph(\n",
    "    url=url,\n",
    "    username=username,\n",
    "    password=password\n",
    ")\n",
    "     \n"
   ]
  },
  {
   "cell_type": "code",
   "execution_count": 17,
   "metadata": {},
   "outputs": [],
   "source": [
    "import os\n",
    "import getpass\n",
    "\n",
    "if \"OPENAI_API_KEY\" not in os.environ:\n",
    "    os.environ[\"OPENAI_API_KEY\"] = getpass.getpass(\"Enter your OpenAI API key: \")\n",
    "     \n"
   ]
  },
  {
   "cell_type": "code",
   "execution_count": 18,
   "metadata": {},
   "outputs": [],
   "source": [
    "# create the index\n",
    "\n",
    "import os\n",
    "from langchain.vectorstores.neo4j_vector import Neo4jVector\n",
    "from langchain_openai import OpenAIEmbeddings\n",
    "\n",
    "vector_index = Neo4jVector.from_existing_graph(\n",
    "    OpenAIEmbeddings(),\n",
    "    url=url,\n",
    "    username=username,\n",
    "    password=password,\n",
    "    index_name='index_for_Product',\n",
    "    node_label=\"Product\",\n",
    "    text_node_properties= ['name', 'date', 'sensorType', 'organization', 'orbitType', 'temporalExtent', 'spatialExtent', 'geojsonUrl', 'compositeType', 'platform', 'referenceSystem', 'instrument','visualizationUrl', 'isoStandard', 'downloadLink' ],\n",
    "\n",
    "    embedding_node_property='embedding',\n",
    ")"
   ]
  },
  {
   "cell_type": "code",
   "execution_count": 19,
   "metadata": {},
   "outputs": [
    {
     "data": {
      "text/plain": [
       "[{'name': 'index_for_Compositetype',\n",
       "  'type': 'VECTOR',\n",
       "  'labelsOrTypes': ['Compositetype'],\n",
       "  'properties': ['embedding'],\n",
       "  'options': {'indexProvider': 'vector-2.0',\n",
       "   'indexConfig': {'vector.hnsw.m': 16,\n",
       "    'vector.hnsw.ef_construction': 100,\n",
       "    'vector.dimensions': 1536,\n",
       "    'vector.similarity_function': 'COSINE',\n",
       "    'vector.quantization.enabled': True}}},\n",
       " {'name': 'index_for_Date',\n",
       "  'type': 'VECTOR',\n",
       "  'labelsOrTypes': ['Date'],\n",
       "  'properties': ['embedding'],\n",
       "  'options': {'indexProvider': 'vector-2.0',\n",
       "   'indexConfig': {'vector.hnsw.m': 16,\n",
       "    'vector.hnsw.ef_construction': 100,\n",
       "    'vector.dimensions': 1536,\n",
       "    'vector.similarity_function': 'COSINE',\n",
       "    'vector.quantization.enabled': True}}},\n",
       " {'name': 'index_for_Doi',\n",
       "  'type': 'VECTOR',\n",
       "  'labelsOrTypes': ['Doi'],\n",
       "  'properties': ['embedding'],\n",
       "  'options': {'indexProvider': 'vector-2.0',\n",
       "   'indexConfig': {'vector.hnsw.m': 16,\n",
       "    'vector.hnsw.ef_construction': 100,\n",
       "    'vector.dimensions': 1536,\n",
       "    'vector.similarity_function': 'COSINE',\n",
       "    'vector.quantization.enabled': True}}},\n",
       " {'name': 'index_for_Downloadlink',\n",
       "  'type': 'VECTOR',\n",
       "  'labelsOrTypes': ['Downloadlink'],\n",
       "  'properties': ['embedding'],\n",
       "  'options': {'indexProvider': 'vector-2.0',\n",
       "   'indexConfig': {'vector.hnsw.m': 16,\n",
       "    'vector.hnsw.ef_construction': 100,\n",
       "    'vector.dimensions': 1536,\n",
       "    'vector.similarity_function': 'COSINE',\n",
       "    'vector.quantization.enabled': True}}},\n",
       " {'name': 'index_for_Geojson',\n",
       "  'type': 'VECTOR',\n",
       "  'labelsOrTypes': ['Geojson'],\n",
       "  'properties': ['embedding'],\n",
       "  'options': {'indexProvider': 'vector-2.0',\n",
       "   'indexConfig': {'vector.hnsw.m': 16,\n",
       "    'vector.hnsw.ef_construction': 100,\n",
       "    'vector.dimensions': 1536,\n",
       "    'vector.similarity_function': 'COSINE',\n",
       "    'vector.quantization.enabled': True}}},\n",
       " {'name': 'index_for_Instrument',\n",
       "  'type': 'VECTOR',\n",
       "  'labelsOrTypes': ['Instrument'],\n",
       "  'properties': ['embedding'],\n",
       "  'options': {'indexProvider': 'vector-2.0',\n",
       "   'indexConfig': {'vector.hnsw.m': 16,\n",
       "    'vector.hnsw.ef_construction': 100,\n",
       "    'vector.dimensions': 1536,\n",
       "    'vector.similarity_function': 'COSINE',\n",
       "    'vector.quantization.enabled': True}}},\n",
       " {'name': 'index_for_Isostandard',\n",
       "  'type': 'VECTOR',\n",
       "  'labelsOrTypes': ['Isostandard'],\n",
       "  'properties': ['embedding'],\n",
       "  'options': {'indexProvider': 'vector-2.0',\n",
       "   'indexConfig': {'vector.hnsw.m': 16,\n",
       "    'vector.hnsw.ef_construction': 100,\n",
       "    'vector.dimensions': 1536,\n",
       "    'vector.similarity_function': 'COSINE',\n",
       "    'vector.quantization.enabled': True}}},\n",
       " {'name': 'index_for_Keyword',\n",
       "  'type': 'VECTOR',\n",
       "  'labelsOrTypes': ['Keyword'],\n",
       "  'properties': ['embedding'],\n",
       "  'options': {'indexProvider': 'vector-2.0',\n",
       "   'indexConfig': {'vector.hnsw.m': 16,\n",
       "    'vector.hnsw.ef_construction': 100,\n",
       "    'vector.dimensions': 1536,\n",
       "    'vector.similarity_function': 'COSINE',\n",
       "    'vector.quantization.enabled': True}}},\n",
       " {'name': 'index_for_Orbittype',\n",
       "  'type': 'VECTOR',\n",
       "  'labelsOrTypes': ['Orbittype'],\n",
       "  'properties': ['embedding'],\n",
       "  'options': {'indexProvider': 'vector-2.0',\n",
       "   'indexConfig': {'vector.hnsw.m': 16,\n",
       "    'vector.hnsw.ef_construction': 100,\n",
       "    'vector.dimensions': 1536,\n",
       "    'vector.similarity_function': 'COSINE',\n",
       "    'vector.quantization.enabled': True}}},\n",
       " {'name': 'index_for_Organization',\n",
       "  'type': 'VECTOR',\n",
       "  'labelsOrTypes': ['Organization'],\n",
       "  'properties': ['embedding'],\n",
       "  'options': {'indexProvider': 'vector-2.0',\n",
       "   'indexConfig': {'vector.hnsw.m': 16,\n",
       "    'vector.hnsw.ef_construction': 100,\n",
       "    'vector.dimensions': 1536,\n",
       "    'vector.similarity_function': 'COSINE',\n",
       "    'vector.quantization.enabled': True}}},\n",
       " {'name': 'index_for_Person',\n",
       "  'type': 'VECTOR',\n",
       "  'labelsOrTypes': ['Person'],\n",
       "  'properties': ['embedding'],\n",
       "  'options': {'indexProvider': 'vector-2.0',\n",
       "   'indexConfig': {'vector.hnsw.m': 16,\n",
       "    'vector.hnsw.ef_construction': 100,\n",
       "    'vector.dimensions': 1536,\n",
       "    'vector.similarity_function': 'COSINE',\n",
       "    'vector.quantization.enabled': True}}},\n",
       " {'name': 'index_for_Platform',\n",
       "  'type': 'VECTOR',\n",
       "  'labelsOrTypes': ['Platform'],\n",
       "  'properties': ['embedding'],\n",
       "  'options': {'indexProvider': 'vector-2.0',\n",
       "   'indexConfig': {'vector.hnsw.m': 16,\n",
       "    'vector.hnsw.ef_construction': 100,\n",
       "    'vector.dimensions': 1536,\n",
       "    'vector.similarity_function': 'COSINE',\n",
       "    'vector.quantization.enabled': True}}},\n",
       " {'name': 'index_for_Product',\n",
       "  'type': 'VECTOR',\n",
       "  'labelsOrTypes': ['Product'],\n",
       "  'properties': ['embedding'],\n",
       "  'options': {'indexProvider': 'vector-2.0',\n",
       "   'indexConfig': {'vector.hnsw.m': 16,\n",
       "    'vector.hnsw.ef_construction': 100,\n",
       "    'vector.dimensions': 1536,\n",
       "    'vector.similarity_function': 'COSINE',\n",
       "    'vector.quantization.enabled': True}}},\n",
       " {'name': 'index_for_Referencesystem',\n",
       "  'type': 'VECTOR',\n",
       "  'labelsOrTypes': ['Referencesystem'],\n",
       "  'properties': ['embedding'],\n",
       "  'options': {'indexProvider': 'vector-2.0',\n",
       "   'indexConfig': {'vector.hnsw.m': 16,\n",
       "    'vector.hnsw.ef_construction': 100,\n",
       "    'vector.dimensions': 1536,\n",
       "    'vector.similarity_function': 'COSINE',\n",
       "    'vector.quantization.enabled': True}}},\n",
       " {'name': 'index_for_Sensortype',\n",
       "  'type': 'VECTOR',\n",
       "  'labelsOrTypes': ['Sensortype'],\n",
       "  'properties': ['embedding'],\n",
       "  'options': {'indexProvider': 'vector-2.0',\n",
       "   'indexConfig': {'vector.hnsw.m': 16,\n",
       "    'vector.hnsw.ef_construction': 100,\n",
       "    'vector.dimensions': 1536,\n",
       "    'vector.similarity_function': 'COSINE',\n",
       "    'vector.quantization.enabled': True}}},\n",
       " {'name': 'index_for_Spatialextent',\n",
       "  'type': 'VECTOR',\n",
       "  'labelsOrTypes': ['Spatialextent'],\n",
       "  'properties': ['embedding'],\n",
       "  'options': {'indexProvider': 'vector-2.0',\n",
       "   'indexConfig': {'vector.hnsw.m': 16,\n",
       "    'vector.hnsw.ef_construction': 100,\n",
       "    'vector.dimensions': 1536,\n",
       "    'vector.similarity_function': 'COSINE',\n",
       "    'vector.quantization.enabled': True}}},\n",
       " {'name': 'index_for_Tile',\n",
       "  'type': 'VECTOR',\n",
       "  'labelsOrTypes': ['Tile'],\n",
       "  'properties': ['embedding'],\n",
       "  'options': {'indexProvider': 'vector-2.0',\n",
       "   'indexConfig': {'vector.hnsw.m': 16,\n",
       "    'vector.hnsw.ef_construction': 100,\n",
       "    'vector.dimensions': 1536,\n",
       "    'vector.similarity_function': 'COSINE',\n",
       "    'vector.quantization.enabled': True}}},\n",
       " {'name': 'index_for_Visualization',\n",
       "  'type': 'VECTOR',\n",
       "  'labelsOrTypes': ['Visualization'],\n",
       "  'properties': ['embedding'],\n",
       "  'options': {'indexProvider': 'vector-2.0',\n",
       "   'indexConfig': {'vector.hnsw.m': 16,\n",
       "    'vector.hnsw.ef_construction': 100,\n",
       "    'vector.dimensions': 1536,\n",
       "    'vector.similarity_function': 'COSINE',\n",
       "    'vector.quantization.enabled': True}}}]"
      ]
     },
     "execution_count": 19,
     "metadata": {},
     "output_type": "execute_result"
    }
   ],
   "source": [
    "# see the index just created\n",
    "vector_index.query(\n",
    "    \"\"\"SHOW INDEXES\n",
    "       YIELD name, type, labelsOrTypes, properties, options\n",
    "       WHERE type = 'VECTOR'\n",
    "    \"\"\"\n",
    ")\n",
    "     \n",
    "\n"
   ]
  },
  {
   "cell_type": "markdown",
   "metadata": {},
   "source": [
    "\n",
    "Retrieval"
   ]
  },
  {
   "cell_type": "code",
   "execution_count": 29,
   "metadata": {},
   "outputs": [],
   "source": [
    "\n",
    "question1 = \"What is the sensor type of Sentinel-2 L2A Maja Products\"\n",
    "question2 =  \"What is the spatial extent of Sentinel-2 L2A Maja Products?\"\n",
    "question3 =  \"What is the Temporal extent of Sentinel-2 L2A Maja Products?\"\n",
    "question4 =  \"Give me the download links for Sentinel-2 L2A Maja Products?\"\n",
    "question5 =  \"What is the spatial extent of S5P Tropomi L4 P1D NO2surf?\" \n",
    "question6 =  \"What is the reference system used for Sentinel-2 L2A Maja Products?\"\n",
    "question7 =  \"What is the ISO standards for Sentinel-2 L2A Maja Products?\"\n",
    "question8 =  \"what is the visualization link of Sentinel-2 L3A Monthly WASP Products?\"\n",
    "question9 =  \"what is the orbit type of Sentinel-2 L2A Maja Products?\"\n",
    "question10 =  \"provide the geojson of Sentinel-2 L2A Maja Products?\"\n",
    "question11 =  \"provide the geojson of S5P Tropomi L3 P1D CF?\" \n",
    "question12 =  \"what is the visualisation link of EnMAP L2A HSI Productsook Products?\"\n",
    "question13 =  \"What id the sensor type of S5P Tropomi L3 P1D O3?\"\n",
    "question14 =  \"what is the spatial extent of S5P Tropomi L3 P1D COT?\"\n",
    "    \n",
    "   \n",
    "\n"
   ]
  },
  {
   "cell_type": "code",
   "execution_count": 30,
   "metadata": {},
   "outputs": [
    {
     "data": {
      "text/plain": [
       "[Document(metadata={}, page_content='\\nname: S5P Tropomi L3 P1D COT\\ndate: \\nsensorType: Atmospheric\\norganization: \\norbitType: LEO\\ntemporalExtent: 2017-11-08T00:00:00Z\\nspatialExtent: -180, -90, 180, 90\\ngeojsonUrl:  https://geoservice.dlr.de/eoc/oseo/search?identifier=S5P_TROPOMI_L3_P1D_COT&httpAccept=application/geo%2Bjson\\ncompositeType: \\nplatform: \\nreferenceSystem: EPSG:4326 (WGS 84)\\ninstrument: \\nvisualizationUrl:  https://geoservice.dlr.de/web/maps/s5p:tropomi:l3\\nisoStandard: Metadata (ISO19139)\\ndownloadLink:  https://geoservice.dlr.de/web/datasets/s5p_tropomi_l3_cot'),\n",
       " Document(metadata={}, page_content='\\nname: S5P Tropomi L3 P1D CTH\\ndate: \\nsensorType: Atmospheric\\norganization: \\norbitType: LEO\\ntemporalExtent: 2017-11-08T00:00:00Z\\nspatialExtent: -180, -90, 180, 90\\ngeojsonUrl:  https://geoservice.dlr.de/eoc/oseo/search?identifier=S5P_TROPOMI_L3_P1D_COT&httpAccept=application/geo%2Bjson\\ncompositeType: \\nplatform: \\nreferenceSystem: EPSG:4326 (WGS 84)\\ninstrument: \\nvisualizationUrl:  https://geoservice.dlr.de/web/maps/s5p:tropomi:l3\\nisoStandard: Metadata (ISO19139)\\ndownloadLink:  https://geoservice.dlr.de/web/datasets/s5p_tropomi_l3_cot'),\n",
       " Document(metadata={}, page_content='\\nname: S5P Tropomi L3 P1D O3\\ndate: \\nsensorType: Atmospheric\\norganization: \\norbitType: LEO\\ntemporalExtent: 2017-11-08T00:00:00Z\\nspatialExtent: -180, -90, 180, 90\\ngeojsonUrl: https://geoservice.dlr.de/eoc/oseo/search?identifier=S5P_TROPOMI_L3_P1D_O3&httpAccept=application/geo%2Bjson\\ncompositeType: \\nplatform: \\nreferenceSystem: EPSG:4326 (WGS 84)\\ninstrument: \\nvisualizationUrl: https://geoservice.dlr.de/web/maps/s5p:tropomi:l3\\nisoStandard: Metadata (ISO19139)\\ndownloadLink: https://geoservice.dlr.de/web/datasets/s5p_tropomi_l3_o3'),\n",
       " Document(metadata={}, page_content='\\nname: S5P Tropomi L3 P1D CF\\ndate: \\nsensorType: Atmospheric\\norganization: \\norbitType: LEO\\ntemporalExtent: 2017-11-08T00:00:00Z\\nspatialExtent: -180, -90, 180, 90\\ngeojsonUrl: https://geoservice.dlr.de/eoc/oseo/search?identifier=S5P_TROPOMI_L3_P1D_CF&httpAccept=application/geo%2Bjson \\ncompositeType: \\nplatform: \\nreferenceSystem: EPSG:4326 (WGS 84)\\ninstrument: \\nvisualizationUrl: https://geoservice.dlr.de/web/maps/s5p:tropomi:l3\\nisoStandard: Metadata (ISO19139)\\ndownloadLink:  https://geoservice.dlr.de/web/datasets/s5p_tropomi_l3_cf')]"
      ]
     },
     "execution_count": 30,
     "metadata": {},
     "output_type": "execute_result"
    }
   ],
   "source": [
    "response = vector_index.similarity_search(question14)\n",
    "response"
   ]
  },
  {
   "cell_type": "code",
   "execution_count": 31,
   "metadata": {},
   "outputs": [
    {
     "data": {
      "text/plain": [
       "[(Document(metadata={}, page_content='\\nname: S5P Tropomi L3 P1D COT\\ndate: \\nsensorType: Atmospheric\\norganization: \\norbitType: LEO\\ntemporalExtent: 2017-11-08T00:00:00Z\\nspatialExtent: -180, -90, 180, 90\\ngeojsonUrl:  https://geoservice.dlr.de/eoc/oseo/search?identifier=S5P_TROPOMI_L3_P1D_COT&httpAccept=application/geo%2Bjson\\ncompositeType: \\nplatform: \\nreferenceSystem: EPSG:4326 (WGS 84)\\ninstrument: \\nvisualizationUrl:  https://geoservice.dlr.de/web/maps/s5p:tropomi:l3\\nisoStandard: Metadata (ISO19139)\\ndownloadLink:  https://geoservice.dlr.de/web/datasets/s5p_tropomi_l3_cot'),\n",
       "  0.92926025390625),\n",
       " (Document(metadata={}, page_content='\\nname: S5P Tropomi L3 P1D CTH\\ndate: \\nsensorType: Atmospheric\\norganization: \\norbitType: LEO\\ntemporalExtent: 2017-11-08T00:00:00Z\\nspatialExtent: -180, -90, 180, 90\\ngeojsonUrl:  https://geoservice.dlr.de/eoc/oseo/search?identifier=S5P_TROPOMI_L3_P1D_COT&httpAccept=application/geo%2Bjson\\ncompositeType: \\nplatform: \\nreferenceSystem: EPSG:4326 (WGS 84)\\ninstrument: \\nvisualizationUrl:  https://geoservice.dlr.de/web/maps/s5p:tropomi:l3\\nisoStandard: Metadata (ISO19139)\\ndownloadLink:  https://geoservice.dlr.de/web/datasets/s5p_tropomi_l3_cot'),\n",
       "  0.92523193359375),\n",
       " (Document(metadata={}, page_content='\\nname: S5P Tropomi L3 P1D O3\\ndate: \\nsensorType: Atmospheric\\norganization: \\norbitType: LEO\\ntemporalExtent: 2017-11-08T00:00:00Z\\nspatialExtent: -180, -90, 180, 90\\ngeojsonUrl: https://geoservice.dlr.de/eoc/oseo/search?identifier=S5P_TROPOMI_L3_P1D_O3&httpAccept=application/geo%2Bjson\\ncompositeType: \\nplatform: \\nreferenceSystem: EPSG:4326 (WGS 84)\\ninstrument: \\nvisualizationUrl: https://geoservice.dlr.de/web/maps/s5p:tropomi:l3\\nisoStandard: Metadata (ISO19139)\\ndownloadLink: https://geoservice.dlr.de/web/datasets/s5p_tropomi_l3_o3'),\n",
       "  0.913421630859375),\n",
       " (Document(metadata={}, page_content='\\nname: S5P Tropomi L3 P1D CF\\ndate: \\nsensorType: Atmospheric\\norganization: \\norbitType: LEO\\ntemporalExtent: 2017-11-08T00:00:00Z\\nspatialExtent: -180, -90, 180, 90\\ngeojsonUrl: https://geoservice.dlr.de/eoc/oseo/search?identifier=S5P_TROPOMI_L3_P1D_CF&httpAccept=application/geo%2Bjson \\ncompositeType: \\nplatform: \\nreferenceSystem: EPSG:4326 (WGS 84)\\ninstrument: \\nvisualizationUrl: https://geoservice.dlr.de/web/maps/s5p:tropomi:l3\\nisoStandard: Metadata (ISO19139)\\ndownloadLink:  https://geoservice.dlr.de/web/datasets/s5p_tropomi_l3_cf'),\n",
       "  0.91009521484375)]"
      ]
     },
     "execution_count": 31,
     "metadata": {},
     "output_type": "execute_result"
    }
   ],
   "source": [
    "response_with_score = vector_index.similarity_search_with_score(question14)\n",
    "response_with_score\n",
    "     "
   ]
  },
  {
   "cell_type": "markdown",
   "metadata": {},
   "source": [
    "\n",
    "Generation"
   ]
  },
  {
   "cell_type": "code",
   "execution_count": 32,
   "metadata": {},
   "outputs": [
    {
     "data": {
      "text/plain": [
       "ChatPromptTemplate(input_variables=['context', 'question'], input_types={}, partial_variables={}, messages=[HumanMessagePromptTemplate(prompt=PromptTemplate(input_variables=['context', 'question'], input_types={}, partial_variables={}, template='Answer the question based only on the following context:\\n{context}\\n\\nQuestion: {question}\\n'), additional_kwargs={})])"
      ]
     },
     "execution_count": 32,
     "metadata": {},
     "output_type": "execute_result"
    }
   ],
   "source": [
    "# using documents as context\n",
    "from langchain_openai import ChatOpenAI\n",
    "from langchain.prompts import ChatPromptTemplate\n",
    "\n",
    "template = \"\"\"Answer the question based only on the following context:\n",
    "{context}\n",
    "\n",
    "Question: {question}\n",
    "\"\"\"\n",
    "\n",
    "prompt = ChatPromptTemplate.from_template(template)\n",
    "prompt"
   ]
  },
  {
   "cell_type": "code",
   "execution_count": 33,
   "metadata": {},
   "outputs": [],
   "source": [
    "llm = ChatOpenAI(model_name=\"gpt-3.5-turbo\", temperature=0)"
   ]
  },
  {
   "cell_type": "code",
   "execution_count": 34,
   "metadata": {},
   "outputs": [],
   "source": [
    "\n",
    "\n",
    "chain = prompt | llm\n",
    "     "
   ]
  },
  {
   "cell_type": "code",
   "execution_count": 35,
   "metadata": {},
   "outputs": [
    {
     "data": {
      "text/plain": [
       "'The spatial extent of S5P Tropomi L3 P1D COT is -180, -90, 180, 90.'"
      ]
     },
     "execution_count": 35,
     "metadata": {},
     "output_type": "execute_result"
    }
   ],
   "source": [
    "docs = response\n",
    "\n",
    "chain.invoke({\"context\": docs, \"question\": question14}).content"
   ]
  },
  {
   "cell_type": "code",
   "execution_count": 36,
   "metadata": {},
   "outputs": [
    {
     "data": {
      "text/plain": [
       "'The geojson of S5P Tropomi L3 P1D CF is available at https://geoservice.dlr.de/eoc/oseo/search?identifier=S5P_TROPOMI_L3_P1D_CF&httpAccept=application/geo%2Bjson.'"
      ]
     },
     "execution_count": 36,
     "metadata": {},
     "output_type": "execute_result"
    }
   ],
   "source": [
    "# Using a retriever as context\n",
    "from langchain_openai import ChatOpenAI\n",
    "from langchain.prompts import ChatPromptTemplate\n",
    "from langchain_core.output_parsers import StrOutputParser\n",
    "from langchain_core.runnables import RunnablePassthrough\n",
    "\n",
    "template = \"\"\"Answer the question based only on the following context:\n",
    "{context}\n",
    "\n",
    "Question: {question}\n",
    "\"\"\"\n",
    "\n",
    "prompt = ChatPromptTemplate.from_template(template)\n",
    "llm = ChatOpenAI(model_name=\"gpt-3.5-turbo\", temperature=0)\n",
    "\n",
    "retriever = vector_index.as_retriever() # search_kwargs={\"k\": 1}\n",
    "\n",
    "graph_chain = ({\"context\": retriever, \"question\": RunnablePassthrough()}\n",
    "                | prompt\n",
    "                | llm\n",
    "                | StrOutputParser()\n",
    "                )\n",
    "graph_chain.invoke(question11)"
   ]
  },
  {
   "cell_type": "code",
   "execution_count": 38,
   "metadata": {},
   "outputs": [],
   "source": [
    "\n",
    "# Using a custom retriever as a context and post-processing of the answer\n",
    "# https://python.langchain.com/docs/how_to/custom_retriever/\n",
    "from typing import List\n",
    "from langchain_core.callbacks import CallbackManagerForRetrieverRun\n",
    "from langchain_core.documents import Document\n",
    "from langchain_core.retrievers import BaseRetriever\n",
    "\n",
    "class CustomRetriever(BaseRetriever):\n",
    "    \"\"\" Custom retriever to return the scores of the documents as well.\n",
    "        Then the scores are passed into an custom ranking function to include the spatial similarity\n",
    "        between the query and the document.\n",
    "    \"\"\"\n",
    "\n",
    "    vector_index: Neo4jVector\n",
    "\n",
    "    def _get_relevant_documents(\n",
    "        self, query: str, *, run_manager: CallbackManagerForRetrieverRun\n",
    "    ) -> List[Document]:\n",
    "        \"\"\"Sync implementations for retriever.\"\"\"\n",
    "\n",
    "        docs, scores = zip(*self.vector_index.similarity_search_with_score(query))\n",
    "        for doc, score in zip(docs, scores):\n",
    "             print(\"***\", doc)\n",
    "             #new_score = updated_score(score, query, doc)\n",
    "             doc.page_content = doc.page_content\n",
    "             doc.metadata[\"score\"] = score\n",
    "        return docs\n",
    "\n",
    "def update_scores(docs):\n",
    "\n",
    "    for doc in docs:\n",
    "       new_score = doc.metadata[\"score\"] * 10\n",
    "       doc.page_content = doc.page_content+ \"\\nScore: \" + str(new_score)\n",
    "       doc.metadata[\"score\"] = new_score\n",
    "    return docs"
   ]
  },
  {
   "cell_type": "code",
   "execution_count": 39,
   "metadata": {},
   "outputs": [
    {
     "name": "stdout",
     "output_type": "stream",
     "text": [
      "*** page_content='\n",
      "name: Sentinel-2 L2A Maja\n",
      "date: \n",
      "sensorType: Optical\n",
      "organization: \n",
      "orbitType: LEO\n",
      "temporalExtent: 2024-07-12T09:25:33\n",
      "spatialExtent: 5.7635, 46.7937, 15.1528, 55.9456\n",
      "geojsonUrl: https://geoservice.dlr.de/eoc/oseo/search?identifier=S2_L2A_MAJA&httpAccept=application/geo%2Bjson\n",
      "compositeType: \n",
      "platform: \n",
      "referenceSystem: EPSG:4326 (WGS 84)\n",
      "instrument: \n",
      "visualizationUrl: https://geoservice.dlr.de/web/maps/sentinel2:l2a:maja\n",
      "isoStandard: ISO 19115 : 2003/Cor.1:2006\n",
      "downloadLink: https://download.geoservice.dlr.de/S2_L2A_MAJA/'\n",
      "*** page_content='\n",
      "name: Sentinel-2 L3A Monthly WASP Products\n",
      "date: \n",
      "sensorType: Optical\n",
      "organization: \n",
      "orbitType: LEO\n",
      "temporalExtent: 2020-01-08T16:22:00Z /\n",
      "spatialExtent: 5.7635, 46.7937, 15.1528, 55.9456\n",
      "geojsonUrl: https://geoservice.dlr.de/eoc/oseo/search?identifier=S2_L3A_WASP&httpAccept=application/geo%2Bjson\n",
      "compositeType: \n",
      "platform: \n",
      "referenceSystem: EPSG:4326 (WGS 84)\n",
      "instrument: \n",
      "visualizationUrl: https://geoservice.dlr.de/web/maps/sentinel2:l3a:wasp\n",
      "isoStandard: ISO 19115 : 2003/Cor.1:2006\n",
      "downloadLink: https://geoservice.dlr.de/web/datasets/s2_l3a_wasp'\n",
      "*** page_content='\n",
      "name: EnMAP L2A HSI Products\n",
      "date: \n",
      "sensorType: Optical\n",
      "organization: \n",
      "orbitType: LEO\n",
      "temporalExtent: 2022-04-27T00:00:00Z\n",
      "spatialExtent: -180, -90, 180, 90\n",
      "geojsonUrl: https://geoservice.dlr.de/eoc/oseo/search?identifier=ENMAP_HSI_L2A&httpAccept=application/geo%2Bjson\n",
      "compositeType: \n",
      "platform: \n",
      "referenceSystem: EPSG:4326 (WGS 84)\n",
      "instrument: \n",
      "visualizationUrl: https://geoservice.dlr.de/catalogue/srv/api/records/39e254f4-e192-43d4-a159-f3e4dab3ec37/attachments/ENMAP_HSI_L2A_ql.jpg\n",
      "isoStandard: (ISO19139)\n",
      "downloadLink: https://geoservice.dlr.de/web/datasets/enmap_l2a_hsi'\n",
      "*** page_content='\n",
      "name: EnMAP L0 HSI Quicklook Products\n",
      "date: \n",
      "sensorType: Optical\n",
      "organization: \n",
      "orbitType: LEO\n",
      "temporalExtent: 2022-04-27T00:00:00Z\n",
      "spatialExtent: -180, -90, 180, 90\n",
      "geojsonUrl: https://geoservice.dlr.de/eoc/oseo/search?identifier=ENMAP_HSI_L0_QL&httpAccept=application/geo%2Bjson\n",
      "compositeType: \n",
      "platform: \n",
      "referenceSystem: EPSG:4326 (WGS 84)\n",
      "instrument: \n",
      "visualizationUrl: https://geoservice.dlr.de/web/maps/enmap:l0\n",
      "isoStandard: Metadata (ISO19139)\n",
      "downloadLink: https://geoservice.dlr.de/web/datasets/enmap_l0_hsi_quicklook'\n"
     ]
    },
    {
     "data": {
      "text/plain": [
       "'The reference system used for Sentinel-2 L2A Maja Products is EPSG:4326 (WGS 84).'"
      ]
     },
     "execution_count": 39,
     "metadata": {},
     "output_type": "execute_result"
    }
   ],
   "source": [
    "\n",
    "from langchain_openai import ChatOpenAI\n",
    "from langchain.prompts import ChatPromptTemplate\n",
    "from langchain_core.output_parsers import StrOutputParser\n",
    "from langchain_core.runnables import RunnablePassthrough\n",
    "\n",
    "template = \"\"\"Answer the question based only on the following context:\n",
    "{context}\n",
    "\n",
    "Question: {question}\n",
    "\"\"\"\n",
    "\n",
    "prompt = ChatPromptTemplate.from_template(template)\n",
    "llm = ChatOpenAI(model_name=\"gpt-3.5-turbo\", temperature=0)\n",
    "\n",
    "retriever_r = CustomRetriever(vector_index=vector_index)\n",
    "\n",
    "graph_chain = ({\"context\": retriever_r | update_scores, \"question\": RunnablePassthrough()}\n",
    "                | prompt\n",
    "                | llm\n",
    "                | StrOutputParser()\n",
    "                )\n",
    "\n",
    "graph_chain.invoke(question6)"
   ]
  }
 ],
 "metadata": {
  "kernelspec": {
   "display_name": "Python 3",
   "language": "python",
   "name": "python3"
  },
  "language_info": {
   "codemirror_mode": {
    "name": "ipython",
    "version": 3
   },
   "file_extension": ".py",
   "mimetype": "text/x-python",
   "name": "python",
   "nbconvert_exporter": "python",
   "pygments_lexer": "ipython3",
   "version": "3.10.11"
  }
 },
 "nbformat": 4,
 "nbformat_minor": 2
}
